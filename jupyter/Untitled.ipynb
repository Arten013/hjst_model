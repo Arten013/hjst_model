{
 "cells": [
  {
   "cell_type": "code",
   "execution_count": 1,
   "metadata": {},
   "outputs": [],
   "source": [
    "from hierarchical_dataset import HierarchicalDataset\n",
    "from scored_pair import LeveledScoredPairKVS\n",
    "import jstatutree.mltree.ml_etypes as etypes"
   ]
  },
  {
   "cell_type": "code",
   "execution_count": 4,
   "metadata": {},
   "outputs": [],
   "source": [
    "pair_path = './aichi-aichi_pref/DDD400'\n",
    "pairs = LeveledScoredPairKVS(path=pair_path, levels=[etypes.Law, etypes.Article, etypes.Sentence])"
   ]
  },
  {
   "cell_type": "code",
   "execution_count": 5,
   "metadata": {},
   "outputs": [],
   "source": [
    "laws = list(pairs[etypes.Law].items())"
   ]
  },
  {
   "cell_type": "code",
   "execution_count": 6,
   "metadata": {},
   "outputs": [
    {
     "data": {
      "text/plain": [
       "('23/230006/0001/Law(1)-23/230006/0002/Law(1)', 0.6891967859498029)"
      ]
     },
     "execution_count": 6,
     "metadata": {},
     "output_type": "execute_result"
    }
   ],
   "source": [
    "laws[0]"
   ]
  },
  {
   "cell_type": "code",
   "execution_count": null,
   "metadata": {},
   "outputs": [],
   "source": [
    "class CompareTreeViewer(object):\n",
    "    def __init__(self, leveled_scored_pairs, dataset):\n",
    "        self.leveled_scored_pairs = leveled_scored_pairs\n",
    "        self.dataset = dataset\n",
    "        \n",
    "    def get_tree(self, root_code):\n",
    "        pass\n",
    "        \n",
    "    def get_path(self, leaf_code):\n",
    "        pass\n",
    "    \n",
    "    def visualize(self, query_code, tree_code):\n",
    "        \n",
    "        "
   ]
  }
 ],
 "metadata": {
  "kernelspec": {
   "display_name": "Python 3",
   "language": "python",
   "name": "python3"
  },
  "language_info": {
   "codemirror_mode": {
    "name": "ipython",
    "version": 3
   },
   "file_extension": ".py",
   "mimetype": "text/x-python",
   "name": "python",
   "nbconvert_exporter": "python",
   "pygments_lexer": "ipython3",
   "version": "3.6.4"
  }
 },
 "nbformat": 4,
 "nbformat_minor": 2
}
